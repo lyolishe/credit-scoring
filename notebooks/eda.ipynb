{
 "cells": [
  {
   "cell_type": "markdown",
   "id": "1fc802d4-59c5-4600-b043-5a13b6803fee",
   "metadata": {},
   "source": [
    "# Explorary Data Analysis \n",
    "В данном блокноте будет исследоваться датасет для обучения - [Bank Credit Risk Assessment Dataset](https://www.kaggle.com/datasets/kapturovalexander/bank-credit-risk-assessment).\n",
    "В рамках данного проекта он находится в файле [data/test_data.csv](data/test_data.csv)\n",
    "\n",
    "Explorary Data Analysis преследует следущие цели:\n",
    "1) Изучение структуры и характеристик набора данных\n",
    "2) Идентификация связий и корреляций между переменными\n",
    "3) Подготовка данных для дальнейших этапов анализа\n",
    "\n",
    "С этой целью, используя `pandas` и `matplotlib` мы будем исследовать предоставленный датасет и готовить его к дальнейшему использованию."
   ]
  },
  {
   "cell_type": "markdown",
   "id": "0fe894d4-148d-4154-9bc0-3e254aa3de20",
   "metadata": {},
   "source": [
    "# Шаг 0. Подготовка окружения."
   ]
  },
  {
   "cell_type": "code",
   "execution_count": 2,
   "id": "81d6b8da-98fb-4f15-ae85-4949a2998bb8",
   "metadata": {
    "editable": true,
    "slideshow": {
     "slide_type": ""
    },
    "tags": []
   },
   "outputs": [],
   "source": [
    "import pandas as pd\n",
    "\n",
    "training_data = pd.read_csv('../data/train_data.csv')"
   ]
  },
  {
   "cell_type": "markdown",
   "id": "540eb5a3-ba24-4ba4-bbb2-a0b4850399ab",
   "metadata": {},
   "source": [
    "# Шаг 1. Исследования табличного вида и состава данных.\n",
    "Сперва нам необходимо понять что из себя представляет предоставленный датасет. Для этого посмотрим на его форму и содержание первых нескольких строк"
   ]
  },
  {
   "cell_type": "code",
   "execution_count": 3,
   "id": "eb9f9046-d653-4dcf-b6a7-afd21d2b9e67",
   "metadata": {},
   "outputs": [
    {
     "data": {
      "text/plain": [
       "(18420, 18)"
      ]
     },
     "execution_count": 3,
     "metadata": {},
     "output_type": "execute_result"
    }
   ],
   "source": [
    "training_data.shape"
   ]
  },
  {
   "cell_type": "code",
   "execution_count": 4,
   "id": "6c5a6cc5-f1e1-4ba6-a57e-452aa2e46959",
   "metadata": {},
   "outputs": [
    {
     "data": {
      "text/html": [
       "<div>\n",
       "<style scoped>\n",
       "    .dataframe tbody tr th:only-of-type {\n",
       "        vertical-align: middle;\n",
       "    }\n",
       "\n",
       "    .dataframe tbody tr th {\n",
       "        vertical-align: top;\n",
       "    }\n",
       "\n",
       "    .dataframe thead th {\n",
       "        text-align: right;\n",
       "    }\n",
       "</style>\n",
       "<table border=\"1\" class=\"dataframe\">\n",
       "  <thead>\n",
       "    <tr style=\"text-align: right;\">\n",
       "      <th></th>\n",
       "      <th>Задолженность</th>\n",
       "      <th>Просрочка, дни</th>\n",
       "      <th>Первоначльный лимит</th>\n",
       "      <th>BIRTHDATE</th>\n",
       "      <th>SEX</th>\n",
       "      <th>EDU</th>\n",
       "      <th>INCOME</th>\n",
       "      <th>TERM</th>\n",
       "      <th>Рейтинг кредитной истории</th>\n",
       "      <th>LV_AREA</th>\n",
       "      <th>LV_SETTLEMENTNAME</th>\n",
       "      <th>INDUSTRYNAME</th>\n",
       "      <th>PDN</th>\n",
       "      <th>CLIENTID</th>\n",
       "      <th>SCORINGMARK</th>\n",
       "      <th>UNDERAGECHILDRENCOUNT</th>\n",
       "      <th>VELCOMSCORING</th>\n",
       "      <th>FAMILYSTATUS</th>\n",
       "    </tr>\n",
       "  </thead>\n",
       "  <tbody>\n",
       "    <tr>\n",
       "      <th>0</th>\n",
       "      <td>6063.50</td>\n",
       "      <td>3</td>\n",
       "      <td>7000.0</td>\n",
       "      <td>1983-07-08</td>\n",
       "      <td>Мужской</td>\n",
       "      <td>Среднее специальное</td>\n",
       "      <td>703.07</td>\n",
       "      <td>60</td>\n",
       "      <td>A1</td>\n",
       "      <td>Гомельская область</td>\n",
       "      <td>КОСАКОВКА</td>\n",
       "      <td>АПК</td>\n",
       "      <td>0.98</td>\n",
       "      <td>919517</td>\n",
       "      <td>233.0</td>\n",
       "      <td>0</td>\n",
       "      <td>NaN</td>\n",
       "      <td>1</td>\n",
       "    </tr>\n",
       "    <tr>\n",
       "      <th>1</th>\n",
       "      <td>3765.04</td>\n",
       "      <td>0</td>\n",
       "      <td>5000.0</td>\n",
       "      <td>1987-12-19</td>\n",
       "      <td>Женский</td>\n",
       "      <td>Высшее</td>\n",
       "      <td>1693.68</td>\n",
       "      <td>60</td>\n",
       "      <td>B2</td>\n",
       "      <td>NaN</td>\n",
       "      <td>МИНСК</td>\n",
       "      <td>Финансы и страхование</td>\n",
       "      <td>0.17</td>\n",
       "      <td>539353</td>\n",
       "      <td>NaN</td>\n",
       "      <td>1</td>\n",
       "      <td>NaN</td>\n",
       "      <td>1</td>\n",
       "    </tr>\n",
       "    <tr>\n",
       "      <th>2</th>\n",
       "      <td>2067.66</td>\n",
       "      <td>0</td>\n",
       "      <td>2650.0</td>\n",
       "      <td>1966-02-28</td>\n",
       "      <td>Женский</td>\n",
       "      <td>Среднее</td>\n",
       "      <td>724.49</td>\n",
       "      <td>60</td>\n",
       "      <td>C2</td>\n",
       "      <td>ГРОДНЕНСКАЯ</td>\n",
       "      <td>ЁДКИ</td>\n",
       "      <td>Медицина и здравоохранение</td>\n",
       "      <td>0.40</td>\n",
       "      <td>818913</td>\n",
       "      <td>NaN</td>\n",
       "      <td>0</td>\n",
       "      <td>NaN</td>\n",
       "      <td>2</td>\n",
       "    </tr>\n",
       "    <tr>\n",
       "      <th>3</th>\n",
       "      <td>2370.39</td>\n",
       "      <td>0</td>\n",
       "      <td>3000.0</td>\n",
       "      <td>1972-02-18</td>\n",
       "      <td>Женский</td>\n",
       "      <td>Среднее специальное</td>\n",
       "      <td>1045.84</td>\n",
       "      <td>60</td>\n",
       "      <td>A3</td>\n",
       "      <td>МИНСКАЯ</td>\n",
       "      <td>ФАНИПОЛЬ</td>\n",
       "      <td>Государственное управление</td>\n",
       "      <td>0.29</td>\n",
       "      <td>691598</td>\n",
       "      <td>216.0</td>\n",
       "      <td>0</td>\n",
       "      <td>NaN</td>\n",
       "      <td>2</td>\n",
       "    </tr>\n",
       "    <tr>\n",
       "      <th>4</th>\n",
       "      <td>2280.55</td>\n",
       "      <td>0</td>\n",
       "      <td>3000.0</td>\n",
       "      <td>1997-02-23</td>\n",
       "      <td>Женский</td>\n",
       "      <td>Высшее</td>\n",
       "      <td>1092.65</td>\n",
       "      <td>60</td>\n",
       "      <td>B3</td>\n",
       "      <td>NaN</td>\n",
       "      <td>Минск</td>\n",
       "      <td>Медицина и здравоохранение</td>\n",
       "      <td>0.63</td>\n",
       "      <td>425193</td>\n",
       "      <td>NaN</td>\n",
       "      <td>0</td>\n",
       "      <td>NaN</td>\n",
       "      <td>2</td>\n",
       "    </tr>\n",
       "  </tbody>\n",
       "</table>\n",
       "</div>"
      ],
      "text/plain": [
       "   Задолженность  Просрочка, дни  Первоначльный лимит   BIRTHDATE      SEX  \\\n",
       "0        6063.50               3               7000.0  1983-07-08  Мужской   \n",
       "1        3765.04               0               5000.0  1987-12-19  Женский   \n",
       "2        2067.66               0               2650.0  1966-02-28  Женский   \n",
       "3        2370.39               0               3000.0  1972-02-18  Женский   \n",
       "4        2280.55               0               3000.0  1997-02-23  Женский   \n",
       "\n",
       "                   EDU   INCOME  TERM Рейтинг кредитной истории  \\\n",
       "0  Среднее специальное   703.07    60                        A1   \n",
       "1               Высшее  1693.68    60                        B2   \n",
       "2              Среднее   724.49    60                        C2   \n",
       "3  Среднее специальное  1045.84    60                        A3   \n",
       "4               Высшее  1092.65    60                        B3   \n",
       "\n",
       "              LV_AREA LV_SETTLEMENTNAME                INDUSTRYNAME   PDN  \\\n",
       "0  Гомельская область         КОСАКОВКА                         АПК  0.98   \n",
       "1                 NaN             МИНСК       Финансы и страхование  0.17   \n",
       "2         ГРОДНЕНСКАЯ              ЁДКИ  Медицина и здравоохранение  0.40   \n",
       "3             МИНСКАЯ          ФАНИПОЛЬ  Государственное управление  0.29   \n",
       "4                 NaN             Минск  Медицина и здравоохранение  0.63   \n",
       "\n",
       "   CLIENTID  SCORINGMARK  UNDERAGECHILDRENCOUNT  VELCOMSCORING  FAMILYSTATUS  \n",
       "0    919517        233.0                      0            NaN             1  \n",
       "1    539353          NaN                      1            NaN             1  \n",
       "2    818913          NaN                      0            NaN             2  \n",
       "3    691598        216.0                      0            NaN             2  \n",
       "4    425193          NaN                      0            NaN             2  "
      ]
     },
     "execution_count": 4,
     "metadata": {},
     "output_type": "execute_result"
    }
   ],
   "source": [
    "training_data.head()"
   ]
  },
  {
   "cell_type": "code",
   "execution_count": null,
   "id": "b03748cf-4a99-4160-b28f-d2ca534cb7e8",
   "metadata": {},
   "outputs": [],
   "source": []
  }
 ],
 "metadata": {
  "kernelspec": {
   "display_name": "Python (.venv)",
   "language": "python",
   "name": ".venv"
  },
  "language_info": {
   "codemirror_mode": {
    "name": "ipython",
    "version": 3
   },
   "file_extension": ".py",
   "mimetype": "text/x-python",
   "name": "python",
   "nbconvert_exporter": "python",
   "pygments_lexer": "ipython3",
   "version": "3.13.5"
  }
 },
 "nbformat": 4,
 "nbformat_minor": 5
}
